{
 "cells": [
  {
   "cell_type": "code",
   "execution_count": 2,
   "metadata": {},
   "outputs": [],
   "source": [
    "# Clear Environment \n",
    "\n",
    "rm(list = ls())"
   ]
  },
  {
   "cell_type": "markdown",
   "metadata": {},
   "source": [
    "# Predicting Insurance Fraud (Rohil Rao)"
   ]
  },
  {
   "cell_type": "code",
   "execution_count": 11,
   "metadata": {
    "collapsed": true
   },
   "outputs": [
    {
     "name": "stderr",
     "output_type": "stream",
     "text": [
      "Warning message:\n",
      "\"package 'vegan' was built under R version 3.6.3\"Loading required package: permute\n",
      "Warning message:\n",
      "\"package 'permute' was built under R version 3.6.3\"This is vegan 2.5-7\n",
      "\n",
      "Attaching package: 'vegan'\n",
      "\n",
      "The following object is masked from 'package:caret':\n",
      "\n",
      "    tolerance\n",
      "\n"
     ]
    }
   ],
   "source": [
    "## Loading Required libraries;\n",
    "\n",
    "library(caret)\n",
    "library(DMwR)\n",
    "library(h2o)\n",
    "library(ROCR)\n",
    "library(ggplot2)\n",
    "library(vegan)"
   ]
  },
  {
   "cell_type": "markdown",
   "metadata": {},
   "source": [
    "#### Reading dataset"
   ]
  },
  {
   "cell_type": "code",
   "execution_count": 14,
   "metadata": {},
   "outputs": [],
   "source": [
    "## Read The Train and Test Data into Enviornment and defining NAs found in the dataset\n",
    " \n",
    "train_data1 = read.csv(file = \"Train.csv\", header = T, sep = ',')\n",
    "train_data2 = read.csv(file = \"Train_Claim.csv\", header = T, sep = ',',na.strings = c('?','-5','MISSINGVALUE','MISSEDDATA'))\n",
    "train_data3 = read.csv(file = \"Train_Demographics.csv\", header = T, sep = ',')\n",
    "train_data4 = read.csv(file = \"Train_Policy.csv\", header = T, sep = ',',na.strings = c('-1','MISSINGVAL','NA'))\n",
    "train_data5 = read.csv(file = \"Train_Vehicle.csv\", header = T, sep = ',',na.strings = '???')\n",
    "  \n",
    "  \n",
    "test_data1 = read.csv(file = \"Test.csv\", header = T, sep = ',')\n",
    "test_data2 = read.csv(file = \"Test_Claim.csv\", header = T, sep = ',',na.strings = c('?','-5','MISSINGVALUE','MISSEDDATA'))\n",
    "test_data3 = read.csv(file = \"Test_Demographics.csv\", header = T, sep = ',')\n",
    "test_data4 = read.csv(file = \"Test_Policy.csv\", header = T, sep = ',',na.strings = c('-1','MISSINGVAL','NA'))\n",
    "test_data5 = read.csv(file = \"Test_Vehicle.csv\", header = T, sep = ',',na.strings = '???')\n"
   ]
  },
  {
   "cell_type": "markdown",
   "metadata": {},
   "source": [
    "#### Summarize the data and check summary statistics"
   ]
  },
  {
   "cell_type": "code",
   "execution_count": 21,
   "metadata": {},
   "outputs": [
    {
     "data": {
      "text/plain": [
       "     CustomerID    ReportedFraud\n",
       " Cust10000:    1   N:21051      \n",
       " Cust10001:    1   Y: 7785      \n",
       " Cust10002:    1                \n",
       " Cust10003:    1                \n",
       " Cust10004:    1                \n",
       " Cust10005:    1                \n",
       " (Other)  :28830                "
      ]
     },
     "metadata": {},
     "output_type": "display_data"
    },
    {
     "name": "stdout",
     "output_type": "stream",
     "text": [
      "'data.frame':\t28836 obs. of  2 variables:\n",
      " $ CustomerID   : Factor w/ 28836 levels \"Cust10000\",\"Cust10001\",..: 8317 22720 11897 25444 27130 1332 15235 25726 15908 13215 ...\n",
      " $ ReportedFraud: Factor w/ 2 levels \"N\",\"Y\": 1 1 1 2 2 1 2 1 1 1 ...\n"
     ]
    }
   ],
   "source": [
    "# Summarize the data\n",
    "summary(train_data1)\n",
    "#summary(train_data2)\n",
    "#summary(train_data3)\n",
    "#summary(train_data4)\n",
    "#summary(train_data5)\n",
    "str(train_data1)\n",
    "#str(test_data2)\n",
    "#str(test_data3)\n",
    "#str(test_data4)\n",
    "#str(test_data5)"
   ]
  },
  {
   "cell_type": "code",
   "execution_count": null,
   "metadata": {},
   "outputs": [],
   "source": []
  },
  {
   "cell_type": "code",
   "execution_count": 22,
   "metadata": {},
   "outputs": [
    {
     "data": {
      "text/html": [
       "28836"
      ],
      "text/latex": [
       "28836"
      ],
      "text/markdown": [
       "28836"
      ],
      "text/plain": [
       "[1] 28836"
      ]
     },
     "metadata": {},
     "output_type": "display_data"
    },
    {
     "name": "stdout",
     "output_type": "stream",
     "text": [
      "'data.frame':\t28836 obs. of  5 variables:\n",
      " $ CustomerID  : Factor w/ 28836 levels \"Cust10000\",\"Cust10001\",..: 1 2 3 4 5 6 7 8 9 10 ...\n",
      " $ VehicleID   : Factor w/ 28910 levels \"1995\",\"1996\",..: 13763 4643 25320 22338 15151 13339 1674 13817 1954 15055 ...\n",
      " $ VehicleMake : Factor w/ 28910 levels \"1995\",\"1996\",..: 30 30 28907 28907 69 69 56 66 28907 64 ...\n",
      " $ VehicleModel: Factor w/ 28910 levels \"1995\",\"1996\",..: 27 27 50 50 37 37 32 32 60 23 ...\n",
      " $ VehicleYOM  : Factor w/ 28910 levels \"1995\",\"1996\",..: 14 12 5 9 16 17 6 16 1 10 ...\n"
     ]
    }
   ],
   "source": [
    "\n",
    "###### train vehicle data pre processing #######\n",
    "train_VehicleID = subset(train_data5, VehicleAttribute == \"VehicleID\")\n",
    "train_VehicleMake = subset(train_data5, VehicleAttribute == \"VehicleMake\")\n",
    "train_VehicleModel = subset(train_data5, VehicleAttribute == \"VehicleModel\")\n",
    "train_VehicleYOM = subset(train_data5, VehicleAttribute == \"VehicleYOM\")\n",
    "  \n",
    "  \n",
    "  \n",
    "df1 = merge(x = train_VehicleID, y = train_VehicleMake, by = \"CustomerID\", all = TRUE)\n",
    "df2 = merge(x = train_VehicleModel, y = train_VehicleYOM, by = \"CustomerID\", all = TRUE)\n",
    "train_data5_final <- merge(x = df1, y = df2 , by = \"CustomerID\", all =TRUE)\n",
    "train_data5_final <- train_data5_final[,!(colnames(train_data5_final) %in% c(\"VehicleAttribute.x.x\",\"VehicleAttribute.y.x\",\"VehicleAttribute.x.y\",\"VehicleAttribute.y.y\"))]\n",
    "names(train_data5_final) <- c(\"CustomerID\",\"VehicleID\",\"VehicleMake\",\"VehicleModel\",\"VehicleYOM\")\n",
    "nrow(train_data5_final)\n",
    "str(train_data5_final)"
   ]
  },
  {
   "cell_type": "code",
   "execution_count": 23,
   "metadata": {},
   "outputs": [
    {
     "name": "stdout",
     "output_type": "stream",
     "text": [
      "'data.frame':\t28836 obs. of  5 variables:\n",
      " $ CustomerID  : Factor w/ 28836 levels \"Cust10000\",\"Cust10001\",..: 1 2 3 4 5 6 7 8 9 10 ...\n",
      " $ VehicleID   : Factor w/ 28836 levels \"Vehicle10000\",..: 13693 4573 25250 22268 15081 13269 1604 13747 1884 14985 ...\n",
      " $ VehicleMake : Factor w/ 14 levels \"Accura\",\"Audi\",..: 2 2 14 14 13 13 9 12 14 11 ...\n",
      " $ VehicleModel: Factor w/ 39 levels \"3 Series\",\"92x\",..: 6 6 21 21 12 12 8 8 29 2 ...\n",
      " $ VehicleYOM  : Factor w/ 21 levels \"1995\",\"1996\",..: 14 12 5 9 16 17 6 16 1 10 ...\n"
     ]
    }
   ],
   "source": [
    "\n",
    "##Converting datatypes to adjust for the differenet levels in Vehicle data\n",
    "  \n",
    "train_data5_final$VehicleID = as.factor(as.character(train_data5_final$VehicleID))\n",
    "train_data5_final$VehicleMake = as.factor(as.character(train_data5_final$VehicleMake))\n",
    "train_data5_final$VehicleModel = as.factor(as.character(train_data5_final$VehicleModel))\n",
    "train_data5_final$VehicleYOM = as.factor(as.character(train_data5_final$VehicleYOM))\n",
    "str(train_data5_final)"
   ]
  },
  {
   "cell_type": "code",
   "execution_count": 24,
   "metadata": {},
   "outputs": [
    {
     "data": {
      "text/html": [
       "9662"
      ],
      "text/latex": [
       "9662"
      ],
      "text/markdown": [
       "9662"
      ],
      "text/plain": [
       "[1] 9662"
      ]
     },
     "metadata": {},
     "output_type": "display_data"
    },
    {
     "name": "stdout",
     "output_type": "stream",
     "text": [
      "'data.frame':\t9662 obs. of  5 variables:\n",
      " $ CustomerID  : Factor w/ 9662 levels \"Cust10008\",\"Cust10010\",..: 1 2 3 4 5 6 7 8 9 10 ...\n",
      " $ VehicleID   : Factor w/ 9735 levels \"1995\",\"1996\",..: 6694 1912 320 8999 7443 1830 6292 5309 5414 7189 ...\n",
      " $ VehicleMake : Factor w/ 9735 levels \"1995\",\"1996\",..: 9732 59 65 56 29 38 65 38 68 68 ...\n",
      " $ VehicleModel: Factor w/ 9735 levels \"1995\",\"1996\",..: 60 69 48 39 67 62 43 58 36 36 ...\n",
      " $ VehicleYOM  : Factor w/ 9735 levels \"1995\",\"1996\",..: 1 12 16 13 15 13 16 18 12 13 ...\n",
      "'data.frame':\t9662 obs. of  5 variables:\n",
      " $ CustomerID  : Factor w/ 9662 levels \"Cust10008\",\"Cust10010\",..: 1 2 3 4 5 6 7 8 9 10 ...\n",
      " $ VehicleID   : Factor w/ 9662 levels \"Vehicle10010\",..: 6625 1843 251 8930 7374 1761 6223 5240 5345 7120 ...\n",
      " $ VehicleMake : Factor w/ 14 levels \"Accura\",\"Audi\",..: 14 10 12 9 1 5 12 5 13 13 ...\n",
      " $ VehicleModel: Factor w/ 38 levels \"3 Series\",\"92x\",..: 29 35 20 13 34 31 16 28 11 11 ...\n",
      " $ VehicleYOM  : Factor w/ 21 levels \"1995\",\"1996\",..: 1 12 16 13 15 13 16 18 12 13 ...\n"
     ]
    }
   ],
   "source": [
    "  \n",
    "##Similarly doing pre processing on test vehicle data\n",
    "  \n",
    "###### test vehicle data pre processing #######\n",
    "  \n",
    "  \n",
    "  \n",
    "test_VehicleID = subset(test_data5, VehicleAttribute == \"VehicleID\")\n",
    "test_VehicleMake = subset(test_data5, VehicleAttribute == \"VehicleMake\")\n",
    "test_VehicleModel = subset(test_data5, VehicleAttribute == \"VehicleModel\")\n",
    "test_VehicleYOM = subset(test_data5, VehicleAttribute == \"VehicleYOM\")\n",
    "  \n",
    "df3 = merge(x = test_VehicleID, y = test_VehicleMake, by = \"CustomerID\", all = TRUE)\n",
    "df4 = merge(x = test_VehicleModel, y = test_VehicleYOM, by = \"CustomerID\", all = TRUE)\n",
    "  \n",
    "test_data5_final <- merge(x = df3, y = df4 , by = \"CustomerID\", all =TRUE)\n",
    "test_data5_final <- test_data5_final[,!(colnames(test_data5_final) %in% c(\"VehicleAttribute.x.x\",\"VehicleAttribute.y.x\",\"VehicleAttribute.x.y\",\"VehicleAttribute.y.y\"))]\n",
    "names(test_data5_final) <- c(\"CustomerID\",\"VehicleID\",\"VehicleMake\",\"VehicleModel\",\"VehicleYOM\")\n",
    "nrow(test_data5_final)\n",
    "str(test_data5_final)\n",
    "  \n",
    "\n",
    "  \n",
    "##Adjusting for levels\n",
    "  \n",
    "test_data5_final$VehicleID = as.factor(as.character(test_data5_final$VehicleID))\n",
    "test_data5_final$VehicleMake = as.factor(as.character(test_data5_final$VehicleMake))\n",
    "test_data5_final$VehicleModel = as.factor(as.character(test_data5_final$VehicleModel))\n",
    "test_data5_final$VehicleYOM = as.factor(as.character(test_data5_final$VehicleYOM))\n",
    "str(test_data5_final)\n",
    "  "
   ]
  },
  {
   "cell_type": "code",
   "execution_count": null,
   "metadata": {},
   "outputs": [],
   "source": []
  },
  {
   "cell_type": "markdown",
   "metadata": {},
   "source": [
    "# Merging the dataset"
   ]
  },
  {
   "cell_type": "code",
   "execution_count": 25,
   "metadata": {},
   "outputs": [
    {
     "data": {
      "text/html": [
       "25774"
      ],
      "text/latex": [
       "25774"
      ],
      "text/markdown": [
       "25774"
      ],
      "text/plain": [
       "[1] 25774"
      ]
     },
     "metadata": {},
     "output_type": "display_data"
    }
   ],
   "source": [
    "  \n",
    "## Merging the data\n",
    "  \n",
    "train_data=Reduce(function(x, y) merge(x, y, all=TRUE), list(train_data1,train_data2,train_data3,train_data4,train_data5_final))\n",
    "df=Reduce(function(x,y) merge(x,y, all=TRUE), list(test_data2,test_data3,test_data4,test_data5_final))\n",
    "test_data1$id=1:nrow(test_data1)\n",
    "test_datax=merge(test_data1,df,by = \"CustomerID\",sort = FALSE)\n",
    "test_data=test_datax[order(test_datax$id),]\n",
    "\n",
    "sum(is.na(train_data))\n",
    "\n",
    "train_data <- centralImputation(data = train_data)\n",
    "test_data <- centralImputation(data = test_data)"
   ]
  },
  {
   "cell_type": "code",
   "execution_count": 28,
   "metadata": {},
   "outputs": [
    {
     "data": {
      "text/html": [
       "<ol class=list-inline>\n",
       "\t<li>28836</li>\n",
       "\t<li>42</li>\n",
       "</ol>\n"
      ],
      "text/latex": [
       "\\begin{enumerate*}\n",
       "\\item 28836\n",
       "\\item 42\n",
       "\\end{enumerate*}\n"
      ],
      "text/markdown": [
       "1. 28836\n",
       "2. 42\n",
       "\n",
       "\n"
      ],
      "text/plain": [
       "[1] 28836    42"
      ]
     },
     "metadata": {},
     "output_type": "display_data"
    }
   ],
   "source": [
    "dim(train_data)"
   ]
  },
  {
   "cell_type": "code",
   "execution_count": 29,
   "metadata": {},
   "outputs": [],
   "source": [
    "write.csv(train_data, file = \"train_data.csv\")\n",
    "write.csv(test_data, file = \"test_data.csv\")"
   ]
  },
  {
   "cell_type": "code",
   "execution_count": null,
   "metadata": {},
   "outputs": [],
   "source": []
  }
 ],
 "metadata": {
  "kernelspec": {
   "display_name": "R",
   "language": "R",
   "name": "ir"
  },
  "language_info": {
   "codemirror_mode": "r",
   "file_extension": ".r",
   "mimetype": "text/x-r-source",
   "name": "R",
   "pygments_lexer": "r",
   "version": "3.6.1"
  }
 },
 "nbformat": 4,
 "nbformat_minor": 4
}
